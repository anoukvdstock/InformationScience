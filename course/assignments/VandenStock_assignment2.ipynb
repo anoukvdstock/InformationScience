{
 "cells": [
  {
   "cell_type": "markdown",
   "metadata": {},
   "source": [
    "## Assignment 2: JSON metadata harvester\n",
    "For your assignement you will be using the JSON data made available through the Europeana Entities API, which allows you to search on or retrieve information from named entities. These named entities (such as persons, topics and places) are part of the Europeana Entity Collection, a collection of entities in the context of Europeana harvested from and linked to controlled vocabularies, such as ​Geonames, DBpedia and Wikidata. It is advisable to read the API’s documentation first.\n",
    "\n",
    "Your assignement is simple. Write a Python script that prompts for user input of a named entity, query the API for that entity, parse the results and print them on standard output.\n",
    "\n",
    "#### Some tips:\n",
    "- You can use the key wskey=apidemo for your API request.\n",
    "- A good Python library to access URLs is urllib.\n",
    "- Think about what we have seen already about standardizing/normalizing search strings, but take this to the next level.\n",
    "- Try to anticipate what can go wrong so the program doesn’t crash in unexpected situations.\n",
    "- Test your application with the following search strings: Erasmus, Justus Lipsius and Django Spirelli.\n",
    "\n",
    "If this is an easy task for you, you might think about parsing the results and adding them to your own database structure, e.g. XML or SQLite."
   ]
  },
  {
   "cell_type": "code",
   "execution_count": 2,
   "metadata": {},
   "outputs": [],
   "source": [
    "import requests, string\n",
    "from json import loads, dumps"
   ]
  },
  {
   "cell_type": "code",
   "execution_count": 16,
   "metadata": {},
   "outputs": [],
   "source": [
    "def normalize(search_string: str) -> str:\n",
    "    \"\"\"normalizes possible search strings\"\"\"\n",
    "    # strip and lowercase\n",
    "    search_string = search_string.strip().casefold()\n",
    "    # remove possible punctuation\n",
    "    search_string = search_string.translate(search_string.maketrans(\"\", \"\", string.punctuation))\n",
    "    # change spaces between first and lastname into %20 for query\n",
    "    if len(search_string) > 1:\n",
    "        search_string = search_string.replace(\" \", \"%20\")\n",
    "        search_string = search_string.replace(\"  \", \"%20\") # double spaces?\n",
    "        \n",
    "    return search_string\n",
    "\n",
    "def output_results():\n",
    "    # aks for input\n",
    "    query = input(\"Which European Entity would you like to search for?\")\n",
    "    query = normalize(query)\n",
    "    # compile url with normalized input and perform search\n",
    "    url = \"https://www.europeana.eu/api/entities/suggest?wskey=apidemo&text=\" + query\n",
    "    search_query(url)\n",
    "    \n",
    "def search_query(url: str):\n",
    "    # open url and convert content into json file\n",
    "    search = requests.get(url).json()\n",
    "    # extract content json file if hit is found\n",
    "    try: \n",
    "        results = search['items']\n",
    "        # show content json file\n",
    "        for result in results:\n",
    "            print(result)\n",
    "    except KeyError:\n",
    "        print(\"Could not find any results for this query. Try again.\")\n",
    "        output_results()"
   ]
  },
  {
   "cell_type": "code",
   "execution_count": 17,
   "metadata": {},
   "outputs": [
    {
     "name": "stdin",
     "output_type": "stream",
     "text": [
      "Which European Entity would you like to search for? djoezdfzenb\n"
     ]
    },
    {
     "name": "stdout",
     "output_type": "stream",
     "text": [
      "Could not find any results for this query. Try again.\n"
     ]
    },
    {
     "name": "stdin",
     "output_type": "stream",
     "text": [
      "Which European Entity would you like to search for? ERASMUS!\n"
     ]
    },
    {
     "name": "stdout",
     "output_type": "stream",
     "text": [
      "{'id': 'http://data.europeana.eu/agent/base/198', 'type': 'Agent', 'depiction': 'http://commons.wikimedia.org/wiki/Special:FilePath/Holbein-erasmus.jpg', 'prefLabel': {'en': 'Desiderius Erasmus'}, 'hiddenLabel': {'en': ['Desiderius Erasmus', 'Erasmus, Desiderius']}, 'dateOfBirth': '1466-10-27', 'dateOfDeath': '1536-07-12'}\n",
      "{'id': 'http://data.europeana.eu/agent/base/77639', 'type': 'Agent', 'depiction': 'http://commons.wikimedia.org/wiki/Special:FilePath/Peter%20Erasmus%20M%C3%BCller.JPG', 'prefLabel': {'en': 'Peter Erasmus Müller'}, 'hiddenLabel': {'en': ['Peter Erasmus Müller', 'Müller, Peter Erasmus']}, 'dateOfBirth': '1776-05-29', 'dateOfDeath': '1834-09-04'}\n",
      "{'id': 'http://data.europeana.eu/agent/base/154250', 'type': 'Agent', 'prefLabel': {'en': 'Erasmus Grasser'}, 'hiddenLabel': {'en': ['Erasmus Grasser', 'Grasser, Erasmus']}, 'dateOfBirth': '1450', 'dateOfDeath': '1510'}\n",
      "{'id': 'http://data.europeana.eu/agent/base/12159', 'type': 'Agent', 'depiction': 'http://commons.wikimedia.org/wiki/Special:FilePath/Erasmus%20Quellinus%20-%20Het%20Gulden%20Cabinet.png', 'prefLabel': {'en': 'Erasmus Quellinus II'}, 'hiddenLabel': {'en': ['Erasmus Quellinus II', 'II, Erasmus Quellinus']}, 'dateOfBirth': '1607', 'dateOfDeath': '1678'}\n",
      "{'id': 'http://data.europeana.eu/agent/base/16271', 'type': 'Agent', 'prefLabel': {'en': 'Jan-Erasmus Quellinus'}, 'hiddenLabel': {'en': ['Jan-Erasmus Quellinus', 'Quellinus, Jan-Erasmus']}, 'dateOfBirth': '1634', 'dateOfDeath': '1715-03-11'}\n",
      "{'id': 'http://data.europeana.eu/agent/base/88872', 'type': 'Agent', 'depiction': 'http://commons.wikimedia.org/wiki/Special:FilePath/Efrancisci.jpg', 'prefLabel': {'en': 'Erasmus Finx'}, 'hiddenLabel': {'en': ['Erasmus Finx', 'Finx, Erasmus']}, 'dateOfBirth': '1627-11-16', 'dateOfDeath': '1694-12-20'}\n",
      "{'id': 'http://data.europeana.eu/agent/base/58004', 'type': 'Agent', 'depiction': 'http://commons.wikimedia.org/wiki/Special:FilePath/PE%20Lange-M%C3%BCller.gif', 'prefLabel': {'en': 'Peter Lange-Müller', 'sv': 'Peter Erasmus Lange-Müller'}, 'hiddenLabel': {'en': ['Peter Lange-Müller', 'Lange-Müller, Peter'], 'sv': ['Peter Erasmus Lange-Müller', 'Lange-Müller, Peter Erasmus']}, 'dateOfBirth': '1850-12-01', 'dateOfDeath': '1926-02-26'}\n",
      "{'id': 'http://data.europeana.eu/agent/base/39278', 'type': 'Agent', 'depiction': 'http://commons.wikimedia.org/wiki/Special:FilePath/Erasmus%20Widmann.jpg', 'prefLabel': {'en': 'Erasmus Widmann'}, 'hiddenLabel': {'en': ['Erasmus Widmann', 'Widmann, Erasmus']}, 'dateOfBirth': '1572', 'dateOfDeath': '1634'}\n",
      "{'id': 'http://data.europeana.eu/agent/base/7171', 'type': 'Agent', 'depiction': 'http://commons.wikimedia.org/wiki/Special:FilePath/Arolsen%20Klebeband%2003%20277%203.jpg', 'prefLabel': {'en': 'Johann Erasmus Kindermann'}, 'hiddenLabel': {'en': ['Johann Erasmus Kindermann', 'Kindermann, Johann Erasmus']}, 'dateOfBirth': '1616-03-29', 'dateOfDeath': '1655-04-14'}\n",
      "{'id': 'http://data.europeana.eu/agent/base/20452', 'type': 'Agent', 'prefLabel': {'en': 'Erasmus Augustus Worthington'}, 'hiddenLabel': {'en': ['Erasmus Augustus Worthington', 'Worthington, Erasmus Augustus']}, 'dateOfBirth': '1791-12-21', 'dateOfDeath': '1880'}\n"
     ]
    }
   ],
   "source": [
    "output_results()"
   ]
  },
  {
   "cell_type": "code",
   "execution_count": 18,
   "metadata": {},
   "outputs": [
    {
     "name": "stdin",
     "output_type": "stream",
     "text": [
      "Which European Entity would you like to search for?  Justus  LIPSIUS\n"
     ]
    },
    {
     "name": "stdout",
     "output_type": "stream",
     "text": [
      "{'id': 'http://data.europeana.eu/agent/base/97901', 'type': 'Agent', 'prefLabel': {'en': 'Justus Hermann Lipsius'}, 'hiddenLabel': {'en': ['Justus Hermann Lipsius', 'Lipsius, Justus Hermann']}, 'dateOfBirth': '1834', 'dateOfDeath': '1920'}\n"
     ]
    }
   ],
   "source": [
    "output_results()"
   ]
  },
  {
   "cell_type": "code",
   "execution_count": null,
   "metadata": {},
   "outputs": [],
   "source": []
  }
 ],
 "metadata": {
  "kernelspec": {
   "display_name": "Python 3",
   "language": "python",
   "name": "python3"
  },
  "language_info": {
   "codemirror_mode": {
    "name": "ipython",
    "version": 3
   },
   "file_extension": ".py",
   "mimetype": "text/x-python",
   "name": "python",
   "nbconvert_exporter": "python",
   "pygments_lexer": "ipython3",
   "version": "3.8.3"
  }
 },
 "nbformat": 4,
 "nbformat_minor": 4
}
